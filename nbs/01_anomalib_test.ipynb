{
 "cells": [
  {
   "cell_type": "code",
   "execution_count": 1,
   "metadata": {},
   "outputs": [],
   "source": [
    "# anomalib_test"
   ]
  },
  {
   "cell_type": "markdown",
   "metadata": {},
   "source": [
    "> Test anomalib functions"
   ]
  },
  {
   "cell_type": "code",
   "execution_count": 6,
   "metadata": {},
   "outputs": [],
   "source": [
    "#| default_exp anomlib.train\n"
   ]
  },
  {
   "cell_type": "code",
   "execution_count": 7,
   "metadata": {},
   "outputs": [],
   "source": [
    "#|  hide\n",
    "%load_ext autoreload\n",
    "%autoreload 2   "
   ]
  },
  {
   "cell_type": "code",
   "execution_count": 8,
   "metadata": {},
   "outputs": [],
   "source": [
    "#| export\n",
    "import pandas as pd\n",
    "import numpy as np\n",
    "from pathlib import Path\n",
    "import os\n",
    "from fastcore.all import *\n",
    "from tqdm.auto import tqdm"
   ]
  },
  {
   "cell_type": "code",
   "execution_count": 9,
   "metadata": {},
   "outputs": [],
   "source": [
    "# export\n",
    "from cv_tools.core import *\n",
    "from cv_tools.compress_and_filter import *\n",
    "#from fastai.vision.all import PILImage"
   ]
  },
  {
   "cell_type": "markdown",
   "metadata": {},
   "source": [
    "# Decmpress the parquet files"
   ]
  },
  {
   "cell_type": "code",
   "execution_count": 11,
   "metadata": {},
   "outputs": [
    {
     "data": {
      "text/plain": [
       "(#6) [Path('/home/user/Schreibtisch/projects/data/crack_detect_usm/good.parquet'),Path('/home/user/Schreibtisch/projects/data/crack_detect_usm/test_data_sig2.parquet'),Path('/home/user/Schreibtisch/projects/data/crack_detect_usm/test_data_sig4.parquet'),Path('/home/user/Schreibtisch/projects/data/crack_detect_usm/test_data_sig3.parquet'),Path('/home/user/Schreibtisch/projects/data/crack_detect_usm/test_data_sig1.parquet'),Path('/home/user/Schreibtisch/projects/data/crack_detect_usm/good_images')]"
      ]
     },
     "execution_count": 11,
     "metadata": {},
     "output_type": "execute_result"
    }
   ],
   "source": [
    "data_path = Path(os.getenv('DATA_PATH'), 'crack_detect_usm')\n",
    "data_path.ls()"
   ]
  },
  {
   "cell_type": "code",
   "execution_count": 15,
   "metadata": {},
   "outputs": [
    {
     "name": "stderr",
     "output_type": "stream",
     "text": [
      "/home/user/miniconda3/envs/anomalib_dataset/lib/python3.11/site-packages/numpy/core/fromnumeric.py:59: FutureWarning: 'DataFrame.swapaxes' is deprecated and will be removed in a future version. Please use 'DataFrame.transpose' instead.\n",
      "  return bound(*args, **kwds)\n"
     ]
    },
    {
     "data": {
      "application/vnd.jupyter.widget-view+json": {
       "model_id": "7e8a83226ba74123b2eab17b85f4124c",
       "version_major": 2,
       "version_minor": 0
      },
      "text/plain": [
       "  0%|          | 0/1 [00:00<?, ?it/s]"
      ]
     },
     "metadata": {},
     "output_type": "display_data"
    }
   ],
   "source": [
    "#pr_path = Path(data_path, 'good.parquet')\n",
    "pr_path = Path(data_path, 'test_data_sig1.parquet')\n",
    "decode_batch(\n",
    "    pr_path=pr_path,\n",
    "    output_dir=Path(data_path, 'test_data_sig1'),\n",
    "    num_workers=4,\n",
    "    batch_size=20\n",
    ")"
   ]
  },
  {
   "cell_type": "code",
   "execution_count": null,
   "metadata": {},
   "outputs": [],
   "source": []
  },
  {
   "cell_type": "code",
   "execution_count": 11,
   "metadata": {},
   "outputs": [],
   "source": [
    "#decode_batch(\n",
    "    #pr_path=pr_path,\n",
    "    #batch_size=600,\n",
    "    #num_workers=4,\n",
    "    #output_dir=Path(data_path, 'good_images'),\n",
    "#)"
   ]
  },
  {
   "cell_type": "code",
   "execution_count": 1,
   "metadata": {},
   "outputs": [],
   "source": [
    "#| export\n",
    "from typing import Any\n",
    "\n",
    "import numpy as np\n",
    "from matplotlib import pyplot as plt\n",
    "from PIL import Image\n",
    "from torchvision.transforms import ToPILImage\n",
    "\n",
    "from anomalib import TaskType\n",
    "from anomalib.data import MVTec\n",
    "from anomalib.data.utils import read_image\n",
    "from anomalib.deploy import OpenVINOInferencer, ExportType\n",
    "from anomalib.engine import Engine\n",
    "from anomalib.models import Padim,Patchcore"
   ]
  },
  {
   "cell_type": "code",
   "execution_count": 2,
   "metadata": {},
   "outputs": [
    {
     "name": "stdout",
     "output_type": "stream",
     "text": [
      "anomalib                  1.1.0\n",
      "anomaly_detection         0.0.1          /home/user/Schreibtisch/projects/git_data/anomaly_detection\n"
     ]
    }
   ],
   "source": [
    "!pip list | grep anom"
   ]
  },
  {
   "cell_type": "code",
   "execution_count": 4,
   "metadata": {},
   "outputs": [],
   "source": [
    "\n",
    "from anomalib.data.image.folder import Folder, FolderDataset\n",
    "import numpy as np\n",
    "from lightning.pytorch.callbacks import EarlyStopping, ModelCheckpoint"
   ]
  },
  {
   "cell_type": "code",
   "execution_count": 16,
   "metadata": {},
   "outputs": [
    {
     "name": "stderr",
     "output_type": "stream",
     "text": [
      "Trainer already configured with model summary callbacks: [<class 'lightning.pytorch.callbacks.rich_model_summary.RichModelSummary'>]. Skipping setting a default `ModelSummary` callback.\n",
      "GPU available: True (cuda), used: True\n",
      "TPU available: False, using: 0 TPU cores\n",
      "IPU available: False, using: 0 IPUs\n",
      "HPU available: False, using: 0 HPUs\n",
      "`Trainer(val_check_interval=1.0)` was configured so validation will run at the end of the training epoch..\n",
      "F1Score class exists for backwards compatibility. It will be removed in v1.1. Please use BinaryF1Score from torchmetrics instead\n",
      "LOCAL_RANK: 0 - CUDA_VISIBLE_DEVICES: [0]\n",
      "/home/user/miniconda3/envs/anomalib_dataset/lib/python3.11/site-packages/lightning/pytorch/core/optimizer.py:181: `LightningModule.configure_optimizers` returned `None`, this fit will run with no optimizer\n"
     ]
    },
    {
     "data": {
      "text/html": [
       "<pre style=\"white-space:pre;overflow-x:auto;line-height:normal;font-family:Menlo,'DejaVu Sans Mono',consolas,'Courier New',monospace\">┏━━━┳━━━━━━━━━━━━━━━━━━━━━━━┳━━━━━━━━━━━━━━━━━━━━━━━━━━┳━━━━━━━━┓\n",
       "┃<span style=\"color: #800080; text-decoration-color: #800080; font-weight: bold\">   </span>┃<span style=\"color: #800080; text-decoration-color: #800080; font-weight: bold\"> Name                  </span>┃<span style=\"color: #800080; text-decoration-color: #800080; font-weight: bold\"> Type                     </span>┃<span style=\"color: #800080; text-decoration-color: #800080; font-weight: bold\"> Params </span>┃\n",
       "┡━━━╇━━━━━━━━━━━━━━━━━━━━━━━╇━━━━━━━━━━━━━━━━━━━━━━━━━━╇━━━━━━━━┩\n",
       "│<span style=\"color: #7f7f7f; text-decoration-color: #7f7f7f\"> 0 </span>│ model                 │ PadimModel               │  2.8 M │\n",
       "│<span style=\"color: #7f7f7f; text-decoration-color: #7f7f7f\"> 1 </span>│ _transform            │ Compose                  │      0 │\n",
       "│<span style=\"color: #7f7f7f; text-decoration-color: #7f7f7f\"> 2 </span>│ normalization_metrics │ MinMax                   │      0 │\n",
       "│<span style=\"color: #7f7f7f; text-decoration-color: #7f7f7f\"> 3 </span>│ image_threshold       │ F1AdaptiveThreshold      │      0 │\n",
       "│<span style=\"color: #7f7f7f; text-decoration-color: #7f7f7f\"> 4 </span>│ pixel_threshold       │ F1AdaptiveThreshold      │      0 │\n",
       "│<span style=\"color: #7f7f7f; text-decoration-color: #7f7f7f\"> 5 </span>│ image_metrics         │ AnomalibMetricCollection │      0 │\n",
       "│<span style=\"color: #7f7f7f; text-decoration-color: #7f7f7f\"> 6 </span>│ pixel_metrics         │ AnomalibMetricCollection │      0 │\n",
       "└───┴───────────────────────┴──────────────────────────┴────────┘\n",
       "</pre>\n"
      ],
      "text/plain": [
       "┏━━━┳━━━━━━━━━━━━━━━━━━━━━━━┳━━━━━━━━━━━━━━━━━━━━━━━━━━┳━━━━━━━━┓\n",
       "┃\u001b[1;35m \u001b[0m\u001b[1;35m \u001b[0m\u001b[1;35m \u001b[0m┃\u001b[1;35m \u001b[0m\u001b[1;35mName                 \u001b[0m\u001b[1;35m \u001b[0m┃\u001b[1;35m \u001b[0m\u001b[1;35mType                    \u001b[0m\u001b[1;35m \u001b[0m┃\u001b[1;35m \u001b[0m\u001b[1;35mParams\u001b[0m\u001b[1;35m \u001b[0m┃\n",
       "┡━━━╇━━━━━━━━━━━━━━━━━━━━━━━╇━━━━━━━━━━━━━━━━━━━━━━━━━━╇━━━━━━━━┩\n",
       "│\u001b[2m \u001b[0m\u001b[2m0\u001b[0m\u001b[2m \u001b[0m│ model                 │ PadimModel               │  2.8 M │\n",
       "│\u001b[2m \u001b[0m\u001b[2m1\u001b[0m\u001b[2m \u001b[0m│ _transform            │ Compose                  │      0 │\n",
       "│\u001b[2m \u001b[0m\u001b[2m2\u001b[0m\u001b[2m \u001b[0m│ normalization_metrics │ MinMax                   │      0 │\n",
       "│\u001b[2m \u001b[0m\u001b[2m3\u001b[0m\u001b[2m \u001b[0m│ image_threshold       │ F1AdaptiveThreshold      │      0 │\n",
       "│\u001b[2m \u001b[0m\u001b[2m4\u001b[0m\u001b[2m \u001b[0m│ pixel_threshold       │ F1AdaptiveThreshold      │      0 │\n",
       "│\u001b[2m \u001b[0m\u001b[2m5\u001b[0m\u001b[2m \u001b[0m│ image_metrics         │ AnomalibMetricCollection │      0 │\n",
       "│\u001b[2m \u001b[0m\u001b[2m6\u001b[0m\u001b[2m \u001b[0m│ pixel_metrics         │ AnomalibMetricCollection │      0 │\n",
       "└───┴───────────────────────┴──────────────────────────┴────────┘\n"
      ]
     },
     "metadata": {},
     "output_type": "display_data"
    },
    {
     "data": {
      "text/html": [
       "<pre style=\"white-space:pre;overflow-x:auto;line-height:normal;font-family:Menlo,'DejaVu Sans Mono',consolas,'Courier New',monospace\"><span style=\"font-weight: bold\">Trainable params</span>: 2.8 M                                                                                            \n",
       "<span style=\"font-weight: bold\">Non-trainable params</span>: 0                                                                                            \n",
       "<span style=\"font-weight: bold\">Total params</span>: 2.8 M                                                                                                \n",
       "<span style=\"font-weight: bold\">Total estimated model params size (MB)</span>: 11                                                                         \n",
       "</pre>\n"
      ],
      "text/plain": [
       "\u001b[1mTrainable params\u001b[0m: 2.8 M                                                                                            \n",
       "\u001b[1mNon-trainable params\u001b[0m: 0                                                                                            \n",
       "\u001b[1mTotal params\u001b[0m: 2.8 M                                                                                                \n",
       "\u001b[1mTotal estimated model params size (MB)\u001b[0m: 11                                                                         \n"
      ]
     },
     "metadata": {},
     "output_type": "display_data"
    },
    {
     "data": {
      "application/vnd.jupyter.widget-view+json": {
       "model_id": "a7612d7fa3284568ba443c8005f15962",
       "version_major": 2,
       "version_minor": 0
      },
      "text/plain": [
       "Output()"
      ]
     },
     "metadata": {},
     "output_type": "display_data"
    },
    {
     "data": {
      "text/html": [
       "<pre style=\"white-space:pre;overflow-x:auto;line-height:normal;font-family:Menlo,'DejaVu Sans Mono',consolas,'Courier New',monospace\">/home/user/miniconda3/envs/anomalib_dataset/lib/python3.11/site-packages/lightning/pytorch/loops/optimization/autom\n",
       "atic.py:132: `training_step` returned `None`. If this was on purpose, ignore this warning...\n",
       "</pre>\n"
      ],
      "text/plain": [
       "/home/user/miniconda3/envs/anomalib_dataset/lib/python3.11/site-packages/lightning/pytorch/loops/optimization/autom\n",
       "atic.py:132: `training_step` returned `None`. If this was on purpose, ignore this warning...\n"
      ]
     },
     "metadata": {},
     "output_type": "display_data"
    }
   ],
   "source": [
    "folder_datamodule = Folder(\n",
    "    name=\"crack\",\n",
    "    root='/home/user/Schreibtisch/projects/data/crack_detect_usm',\n",
    "    normal_dir=\"good_images\",\n",
    "    abnormal_dir=\"test_data_sig1\",\n",
    "    task=TaskType.CLASSIFICATION,\n",
    "    image_size=(224, 224)\n",
    ")\n",
    "folder_datamodule.setup()\n",
    "callbacks = [\n",
    "    ModelCheckpoint(\n",
    "        mode=\"max\",\n",
    "        monitor=\"image_AUROC\",\n",
    "    ),\n",
    "    EarlyStopping(\n",
    "        monitor=\"image_AUROC\",\n",
    "        mode=\"max\",\n",
    "        patience=3,\n",
    "\n",
    "    ),\n",
    "]\n",
    "#engine = Engine(\n",
    "    #normalization=NormalizationMethod.MIN_MAX,\n",
    "    #threshold=\"F1AdaptiveThreshold\",\n",
    "    #task=TaskType.CLASSIFICATION,\n",
    "    #image_metrics=[\"AUROC\"],\n",
    "    #accelerator=\"auto\",\n",
    "    #check_val_every_n_epoch=1,\n",
    "    #devices=1,\n",
    "    #max_epochs=1,\n",
    "    #num_sanity_val_steps=0,\n",
    "    #val_check_interval=1.0,\n",
    "#)\n",
    "\n",
    "engine = Engine(\n",
    "    callbacks=callbacks,\n",
    "    pixel_metrics=\"AUROC\",\n",
    "    accelerator=\"gpu\",  # \\<\"cpu\", \"gpu\", \"tpu\", \"ipu\", \"hpu\", \"auto\">,\n",
    "    devices=0,\n",
    "    logger=False,\n",
    "    max_epochs=20,\n",
    "    task=TaskType.CLASSIFICATION,\n",
    ")\n",
    "\n",
    "model = Padim(\n",
    "    backbone='resnet18',\n",
    "    layers=[\"layer1\", \"layer2\", \"layer3\"],\n",
    "    n_features=100\n",
    ")\n",
    "#model = Patchcore(\n",
    "    #backbone='resnet18',\n",
    "    #layers=[\"layer1\", \"layer2\", \"layer3\"],\n",
    "#)\n",
    "\n",
    "engine.fit(\n",
    "    datamodule=folder_datamodule, \n",
    "    model=model,\n",
    "    )"
   ]
  },
  {
   "cell_type": "code",
   "execution_count": null,
   "metadata": {},
   "outputs": [],
   "source": [
    "test_results = engine.test(model=model, datamodule=folder_datamodule)"
   ]
  },
  {
   "cell_type": "code",
   "execution_count": null,
   "metadata": {},
   "outputs": [],
   "source": [
    "openvino_model_path = engine.export(\n",
    "    model=model,\n",
    "    export_type=ExportType.OPENVINO,\n",
    "    export_root=str(Path.cwd()),\n",
    ")"
   ]
  }
 ],
 "metadata": {
  "kernelspec": {
   "display_name": "anomalib_dataset",
   "language": "python",
   "name": "python3"
  },
  "language_info": {
   "codemirror_mode": {
    "name": "ipython",
    "version": 3
   },
   "file_extension": ".py",
   "mimetype": "text/x-python",
   "name": "python",
   "nbconvert_exporter": "python",
   "pygments_lexer": "ipython3",
   "version": "3.11.9"
  }
 },
 "nbformat": 4,
 "nbformat_minor": 2
}
